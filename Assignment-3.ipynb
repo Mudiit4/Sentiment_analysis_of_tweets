{
 "cells": [
  {
   "attachments": {},
   "cell_type": "markdown",
   "metadata": {
    "id": "Y2VR5yE2Q1lD"
   },
   "source": [
    "# Preprocessing\n",
    "\n",
    "In this Assignment, we will be exploring how to preprocess tweets for sentiment analysis. \n"
   ]
  },
  {
   "cell_type": "code",
   "execution_count": 1,
   "metadata": {
    "id": "Try8QG5xQ1lL"
   },
   "outputs": [],
   "source": [
    "import nltk                                # Python library for NLP\n",
    "from nltk.corpus import twitter_samples    # sample Twitter dataset from NLTK\n",
    "import matplotlib.pyplot as plt            # library for visualization\n",
    "import random                              # pseudo-random number generator\n",
    "from tqdm import tqdm\n",
    "import tensorflow as tf"
   ]
  },
  {
   "attachments": {},
   "cell_type": "markdown",
   "metadata": {
    "id": "puelnnDoQ1lM"
   },
   "source": [
    "## About the Twitter dataset\n",
    "\n",
    "The sample dataset from NLTK is separated into positive and negative tweets. It contains 5000 positive tweets and 5000 negative tweets exactly. The exact match between these classes is not a coincidence. The intention is to have a balanced dataset. That does not reflect the real distributions of positive and negative classes in live Twitter streams.\n",
    "\n"
   ]
  },
  {
   "attachments": {},
   "cell_type": "markdown",
   "metadata": {},
   "source": [
    "### What does this mean?\n",
    "\n",
    "In the NLTK sample dataset you mentioned, there are 5000 positive tweets and 5000 negative tweets. This equal distribution of positive and negative tweets is intentional and serves the purpose of creating a balanced dataset for training and evaluation.\n",
    "\n",
    "However, it's important to note that this balanced dataset does not accurately reflect the real distribution of positive and negative tweets in live Twitter streams. In real-time, the occurrence of positive and negative tweets can vary significantly based on several factors.\n",
    "\n",
    "In real-world scenarios, it's common to observe imbalanced distributions of positive and negative tweets. This imbalance presents challenges when training and evaluating machine learning models that have been trained on a balanced dataset. The models may not generalize well to imbalanced distributions and may exhibit biases or limitations when applied to real-time Twitter streams.\n",
    "\n",
    "To address such challenges, specialized techniques for handling imbalanced data can be employed, such as oversampling the minority class, undersampling the majority class, or using advanced algorithms that handle imbalanced data effectively. Additionally, incorporating contextual information, topic modeling, or sentiment analysis techniques can further improve the understanding and analysis of sentiment in live Twitter streams."
   ]
  },
  {
   "cell_type": "code",
   "execution_count": 2,
   "metadata": {
    "colab": {
     "base_uri": "https://localhost:8080/"
    },
    "id": "zxKktlhMQ1lN",
    "outputId": "59b74f23-525c-425d-9e5e-1622369751dc"
   },
   "outputs": [
    {
     "name": "stderr",
     "output_type": "stream",
     "text": [
      "[nltk_data] Downloading package twitter_samples to\n",
      "[nltk_data]     C:\\Users\\Sanjay\\AppData\\Roaming\\nltk_data...\n",
      "[nltk_data]   Package twitter_samples is already up-to-date!\n"
     ]
    },
    {
     "data": {
      "text/plain": [
       "True"
      ]
     },
     "execution_count": 2,
     "metadata": {},
     "output_type": "execute_result"
    }
   ],
   "source": [
    "# downloads sample twitter dataset.\n",
    "nltk.download('twitter_samples')"
   ]
  },
  {
   "attachments": {},
   "cell_type": "markdown",
   "metadata": {
    "id": "ZjWs6tqbQ1lN"
   },
   "source": [
    "We can load the text fields of the positive and negative tweets by using the module's `strings()` method like this:"
   ]
  },
  {
   "attachments": {},
   "cell_type": "markdown",
   "metadata": {},
   "source": [
    "This line assigns the variable all_positive_tweets to a list of strings representing the positive tweets from the NLTK Twitter sample dataset. The `twitter_samples.strings()` function is used to retrieve the tweets, and `positive_tweets.json` is passed as the argument to specify the file containing the positive tweets."
   ]
  },
  {
   "cell_type": "code",
   "execution_count": 3,
   "metadata": {
    "id": "cCN9YKaCQ1lN"
   },
   "outputs": [],
   "source": [
    "# select the set of positive and negative tweets\n",
    "all_positive_tweets = twitter_samples.strings('positive_tweets.json')\n",
    "all_negative_tweets = twitter_samples.strings('negative_tweets.json')"
   ]
  },
  {
   "attachments": {},
   "cell_type": "markdown",
   "metadata": {
    "id": "rfK_KjdIQ1lO"
   },
   "source": [
    "Next, we'll print a report with the number of positive and negative tweets. It is also essential to know the data structure of the datasets"
   ]
  },
  {
   "cell_type": "code",
   "execution_count": 4,
   "metadata": {
    "colab": {
     "base_uri": "https://localhost:8080/"
    },
    "id": "_XrygbufQ1lO",
    "outputId": "14653392-3031-421b-b3d5-8d33dab48fac"
   },
   "outputs": [
    {
     "name": "stdout",
     "output_type": "stream",
     "text": [
      "Number of positive tweets:  5000\n",
      "Number of negative tweets:  5000\n",
      "\n",
      "The type of all_positive_tweets is:  <class 'list'>\n",
      "The type of a tweet entry is:  <class 'str'>\n",
      "hopeless for tmr :(\n"
     ]
    }
   ],
   "source": [
    "print('Number of positive tweets: ', len(all_positive_tweets))\n",
    "print('Number of negative tweets: ', len(all_negative_tweets))\n",
    "\n",
    "print('\\nThe type of all_positive_tweets is: ', type(all_positive_tweets))\n",
    "print('The type of a tweet entry is: ', type(all_negative_tweets[0]))\n",
    "print(all_negative_tweets[0])"
   ]
  },
  {
   "attachments": {},
   "cell_type": "markdown",
   "metadata": {
    "id": "Y9SEd0krQ1lP"
   },
   "source": [
    "## Looking at raw texts\n",
    "\n",
    "\n",
    "\n",
    "Below, you will print one random positive and one random negative tweet. "
   ]
  },
  {
   "cell_type": "code",
   "execution_count": 5,
   "metadata": {
    "colab": {
     "base_uri": "https://localhost:8080/"
    },
    "id": "x_4GnNOMQ1lP",
    "outputId": "c1203925-e445-4771-b41d-9c4e961fe02f"
   },
   "outputs": [
    {
     "name": "stdout",
     "output_type": "stream",
     "text": [
      "Imran khan a hero :) really  #IKPrideOfPak\n",
      "\n",
      "@QjQj_Kwon How weird :( ^^\n"
     ]
    }
   ],
   "source": [
    "print(all_positive_tweets[random.randint(0,5000)])\n",
    "print()\n",
    "print(all_negative_tweets[random.randint(0,5000)])"
   ]
  },
  {
   "attachments": {},
   "cell_type": "markdown",
   "metadata": {
    "id": "VlhrXoUrQ1lQ"
   },
   "source": [
    "## Preprocess raw text for Sentiment analysis"
   ]
  },
  {
   "attachments": {},
   "cell_type": "markdown",
   "metadata": {
    "id": "a3lDAfnMQ1lQ"
   },
   "source": [
    "Data preprocessing is one of the critical steps in any machine learning project. It includes cleaning and formatting the data before feeding into a machine learning algorithm. For NLP, the preprocessing steps are comprised of the following tasks:\n",
    "\n",
    "* Tokenizing the string\n",
    "* Lowercasing\n",
    "* Removing stop words and punctuation\n",
    "* Stemming\n",
    "\n",
    "\n"
   ]
  },
  {
   "attachments": {},
   "cell_type": "markdown",
   "metadata": {},
   "source": [
    "### Br..eak it down!\n",
    "Example Sentence: \"I love eating pizza! It's delicious.\"\n",
    "\n",
    "Tokenizing the String:\n",
    "Tokenization involves splitting the sentence into individual tokens or words. In this case, the tokenized version of the sentence would be: `[\"I\", \"love\", \"eating\", \"pizza\", \"!\", \"It's\", \"delicious\", \".\"]`\n",
    "\n",
    "Lowercasing:\n",
    "Lowercasing involves converting all the tokens to lowercase. After lowercasing, the tokenized sentence becomes: `[\"i\", \"love\", \"eating\", \"pizza\", \"!\", \"it's\", \"delicious\", \".\"]`\n",
    "\n",
    "Removing Stop Words and Punctuation:\n",
    "Stop words are common words like \"I,\" \"it's,\" and \"the\" that don't carry significant meaning for analysis. Punctuation marks, such as \"!\" and \".\", are also removed. After removing stop words and punctuation, the tokenized and lowercased sentence becomes: `[\"love\", \"eating\", \"pizza\", \"delicious\"]`\n",
    "\n",
    "Stemming:\n",
    "Stemming reduces words to their base or root form. In this case, stemming the sentence using the Porter stemming algorithm would result in: `[\"love\", \"eat\", \"pizza\", \"delici\"]`\n",
    "\n",
    "So, after applying all the preprocessing steps, the example sentence has been transformed into the following tokens: `[\"love\", \"eat\", \"pizza\", \"delici\"]`."
   ]
  },
  {
   "cell_type": "code",
   "execution_count": 6,
   "metadata": {
    "colab": {
     "base_uri": "https://localhost:8080/"
    },
    "id": "bm6bNsrzQ1lQ",
    "outputId": "95fed2a5-2bba-4c9b-c9f1-beee7a5ed5e7"
   },
   "outputs": [
    {
     "name": "stdout",
     "output_type": "stream",
     "text": [
      "My beautiful sunflowers on a sunny Friday morning off :) #sunflowers #favourites #happy #Friday off… https://t.co/3tfYom0N1i\n"
     ]
    }
   ],
   "source": [
    "# Our selected sample. Complex enough to exemplify each step\n",
    "tweet = all_positive_tweets[2277]\n",
    "print(tweet)"
   ]
  },
  {
   "attachments": {},
   "cell_type": "markdown",
   "metadata": {
    "id": "YyZR0yYwQ1lQ"
   },
   "source": [
    "Let's import a few more libraries for this purpose."
   ]
  },
  {
   "cell_type": "code",
   "execution_count": 7,
   "metadata": {
    "colab": {
     "base_uri": "https://localhost:8080/"
    },
    "id": "tcviT9auQ1lR",
    "outputId": "3f62c21b-9c43-4487-ba0d-f64ba264d7de"
   },
   "outputs": [
    {
     "name": "stderr",
     "output_type": "stream",
     "text": [
      "[nltk_data] Downloading package stopwords to\n",
      "[nltk_data]     C:\\Users\\Sanjay\\AppData\\Roaming\\nltk_data...\n",
      "[nltk_data]   Package stopwords is already up-to-date!\n"
     ]
    },
    {
     "data": {
      "text/plain": [
       "True"
      ]
     },
     "execution_count": 7,
     "metadata": {},
     "output_type": "execute_result"
    }
   ],
   "source": [
    "# download the stopwords from NLTK\n",
    "nltk.download('stopwords')"
   ]
  },
  {
   "cell_type": "code",
   "execution_count": 8,
   "metadata": {
    "id": "aT8QHMY5Q1lR"
   },
   "outputs": [],
   "source": [
    "import re                                  # library for regular expression operations\n",
    "import string                              # for string operations\n",
    "\n",
    "from nltk.corpus import stopwords          # module for stop words that come with NLTK\n",
    "from nltk.stem import PorterStemmer        # module for stemming\n",
    "from nltk.tokenize import TweetTokenizer   # module for tokenizing strings"
   ]
  },
  {
   "attachments": {},
   "cell_type": "markdown",
   "metadata": {
    "id": "VG3ImX_IQ1lR"
   },
   "source": [
    "### Remove hyperlinks,  Twitter marks and styles\n",
    "\n",
    "Since we have a Twitter dataset, we'd like to remove some substrings commonly used on the platform like the hashtag, retweet marks, and hyperlinks. We'll use the [re](https://docs.python.org/3/library/re.html) library to perform regular expression operations on our tweet. We'll define our search pattern and use the `sub()` method to remove matches by substituting with an empty character (i.e. `''`)"
   ]
  },
  {
   "cell_type": "code",
   "execution_count": 9,
   "metadata": {
    "id": "a5IcXDqkQ1lR",
    "scrolled": true
   },
   "outputs": [
    {
     "name": "stdout",
     "output_type": "stream",
     "text": [
      "My beautiful sunflowers on a sunny Friday morning off :) sunflowers favourites happy Friday off… \n"
     ]
    }
   ],
   "source": [
    "        # remove old style retweet text \"RT\"\n",
    "tweet2 = re.sub(r'^RT[\\s]+', '', tweet)\n",
    "\n",
    "# remove hyperlinks\n",
    "tweet2 = re.sub(r'https?://[^\\s\\n\\r]+', '', tweet2)\n",
    "\n",
    "# remove hashtags\n",
    "# only removing the hash # sign from the word\n",
    "tweet2 = re.sub(r'#', '', tweet2)\n",
    "\n",
    "print(tweet2)"
   ]
  },
  {
   "attachments": {},
   "cell_type": "markdown",
   "metadata": {},
   "source": [
    "### Bruhtal\n",
    "\n",
    "#### Firstly let's see `^RT[\\s]+`\n",
    "\n",
    "`^`: The caret symbol at the beginning of the pattern signifies that the match should start at the beginning of the string.\n",
    "\n",
    "`RT`: This matches the characters \"RT\" exactly as they appear.\n",
    "\n",
    "`[\\s]+`: The square brackets indicate a character set or class. \\s is a shorthand character class that represents whitespace characters, such as spaces, tabs, and newlines. The + quantifier specifies that one or more whitespace characters should be matched.\n",
    "\n",
    "Putting it all together, `^RT[\\s]+` matches a string that starts with the characters \"RT\" followed by one or more whitespace characters.\n",
    "\n",
    "Example:\n",
    "Suppose we have a tweet: \"RT @username: This is a sample tweet.\"\n",
    "\n",
    "Applying the re.sub() function with the pattern `^RT[\\s]+`, we would get the following result:\n",
    "\n",
    "Original tweet: \"RT @username: This is a sample tweet.\"\n",
    "Modified tweet: \"@username: This is a sample tweet.\"\n",
    "\n",
    "#### Let's see `'https?://[^\\s\\n\\r]+'`\n",
    "\n",
    "`r`: The \"r\" at the beginning of the pattern indicates that it is a raw string, allowing backslashes to be treated as literal characters instead of escape characters.\n",
    "\n",
    "`https?://`: This part matches the literal characters \"http://\" or \"https://\". The question mark `\"?\" makes the \"s\" optional, allowing for both \"http://\" and \"https://\" to be matched.`\n",
    "\n",
    "`[^\\s\\n\\r]+`: This part is a character class that matches any character that is not a whitespace character, newline character, or carriage return character. The caret `\"^\"` at the beginning of the character class negates the match, so it matches any character not listed. The `\"+\"` quantifier after the character class matches one or more occurrences of the preceding pattern.\n",
    "\n",
    "To summarize, the pattern r'https?://[^\\s\\n\\r]+' matches URLs starting with \"http://\" or \"https://\" and followed by one or more characters that are not whitespace, newline, or carriage return characters.\n",
    "\n",
    "Example:\n",
    "Suppose we have a tweet: \"Check out this link: https://example.com\"\n",
    "\n",
    "Applying the regular expression pattern r'https?://[^\\s\\n\\r]+', we would get the following result:\n",
    "\n",
    "Original tweet: \"Check out this link: https://example.com\"\n",
    "Matched URL: \"https://example.com\"\n",
    "In this example, the pattern r'https?://[^\\s\\n\\r]+' matches the URL \"https://example.com\" in the tweet. It captures the entire URL because it starts with \"https://\" and consists of characters that are not whitespace, newline, or carriage return. This pattern is useful for removing or replacing URLs in text data.\n",
    "\n",
    "#### And the now easy-peasy `r'#'`\n",
    "\n",
    "This line removes hashtags from the tweet by replacing the hash sign \"#\" with an empty string. It removes the hash symbol but retains the word itself.\n",
    "\n",
    "\n",
    "This code snippet demonstrates how to use regular expressions (re.sub()) in Python to remove specific patterns such as old-style retweet text, hyperlinks, and hashtags from a given tweet. The resulting tweet2 will be a modified version of the original tweet with the specified patterns removed.\n"
   ]
  },
  {
   "attachments": {},
   "cell_type": "markdown",
   "metadata": {
    "id": "pHn6jA0tQ1lR"
   },
   "source": [
    "### Tokenize the string\n",
    "\n",
    "To tokenize means to split the strings into individual words without blanks or tabs. In this same step, we will also convert each word in the string to lower case. The [tokenize](https://www.nltk.org/api/nltk.tokenize.html#module-nltk.tokenize.casual) module from NLTK allows us to do these easily:"
   ]
  },
  {
   "cell_type": "code",
   "execution_count": 10,
   "metadata": {
    "id": "TzLGfUX3Q1lS"
   },
   "outputs": [
    {
     "name": "stdout",
     "output_type": "stream",
     "text": [
      "\n",
      "Tokenized string:\n",
      "['my', 'beautiful', 'sunflowers', 'on', 'a', 'sunny', 'friday', 'morning', 'off', ':)', 'sunflowers', 'favourites', 'happy', 'friday', 'off', '…']\n"
     ]
    }
   ],
   "source": [
    "# instantiate tokenizer class\n",
    "tokenizer = TweetTokenizer(preserve_case=False, strip_handles=True,\n",
    "                               reduce_len=True)\n",
    "\n",
    "# tokenize tweets\n",
    "tweet_tokens = tokenizer.tokenize(tweet2)\n",
    "\n",
    "print()\n",
    "print('Tokenized string:')\n",
    "print(tweet_tokens)"
   ]
  },
  {
   "attachments": {},
   "cell_type": "markdown",
   "metadata": {},
   "source": [
    "### B-R-E-A-K-!\n",
    "\n",
    "`tokenizer = TweetTokenizer(preserve_case=False, strip_handles=True, reduce_len=True)`\n",
    "\n",
    "This line instantiates the TweetTokenizer class with three parameters:\n",
    "\n",
    "`preserve_case=False` specifies that the tokenizer should convert all tokens to lowercase.\n",
    "`strip_handles=True` indicates that user handles (e.g., @username) should be removed from the tokens.\n",
    "`reduce_len=True` specifies that repeated character sequences of length 3 or more should be reduced to length 3.\n",
    "\n",
    "More on `reduce_len=True`:\n",
    "\n",
    "In some informal text, especially in tweets, people often use elongated words with repeated characters to convey emphasis or emotion. For example, \"soooo\" instead of \"so\" or \"happyyyy\" instead of \"happy.\"\n",
    "\n",
    "Setting reduce_len=True in TweetTokenizer specifies that repeated character sequences of length 3 or more should be reduced to length 3. This feature helps in normalizing such elongated words to their base form by truncating the repeated characters beyond three.\n"
   ]
  },
  {
   "attachments": {},
   "cell_type": "markdown",
   "metadata": {
    "id": "tzhpto5LQ1lS"
   },
   "source": [
    "### Remove stop words and punctuations\n",
    "\n",
    "The next step is to remove stop words and punctuation. Stop words are words that don't add significant meaning to the text. You'll see the list provided by NLTK when you run the cells below."
   ]
  },
  {
   "cell_type": "code",
   "execution_count": 11,
   "metadata": {
    "id": "hEuUul5rQ1lS"
   },
   "outputs": [
    {
     "name": "stdout",
     "output_type": "stream",
     "text": [
      "Stop words\n",
      "\n",
      "['i', 'me', 'my', 'myself', 'we', 'our', 'ours', 'ourselves', 'you', \"you're\", \"you've\", \"you'll\", \"you'd\", 'your', 'yours', 'yourself', 'yourselves', 'he', 'him', 'his', 'himself', 'she', \"she's\", 'her', 'hers', 'herself', 'it', \"it's\", 'its', 'itself', 'they', 'them', 'their', 'theirs', 'themselves', 'what', 'which', 'who', 'whom', 'this', 'that', \"that'll\", 'these', 'those', 'am', 'is', 'are', 'was', 'were', 'be', 'been', 'being', 'have', 'has', 'had', 'having', 'do', 'does', 'did', 'doing', 'a', 'an', 'the', 'and', 'but', 'if', 'or', 'because', 'as', 'until', 'while', 'of', 'at', 'by', 'for', 'with', 'about', 'against', 'between', 'into', 'through', 'during', 'before', 'after', 'above', 'below', 'to', 'from', 'up', 'down', 'in', 'out', 'on', 'off', 'over', 'under', 'again', 'further', 'then', 'once', 'here', 'there', 'when', 'where', 'why', 'how', 'all', 'any', 'both', 'each', 'few', 'more', 'most', 'other', 'some', 'such', 'no', 'nor', 'not', 'only', 'own', 'same', 'so', 'than', 'too', 'very', 's', 't', 'can', 'will', 'just', 'don', \"don't\", 'should', \"should've\", 'now', 'd', 'll', 'm', 'o', 're', 've', 'y', 'ain', 'aren', \"aren't\", 'couldn', \"couldn't\", 'didn', \"didn't\", 'doesn', \"doesn't\", 'hadn', \"hadn't\", 'hasn', \"hasn't\", 'haven', \"haven't\", 'isn', \"isn't\", 'ma', 'mightn', \"mightn't\", 'mustn', \"mustn't\", 'needn', \"needn't\", 'shan', \"shan't\", 'shouldn', \"shouldn't\", 'wasn', \"wasn't\", 'weren', \"weren't\", 'won', \"won't\", 'wouldn', \"wouldn't\"]\n",
      "\n",
      "Punctuation\n",
      "\n",
      "!\"#$%&'()*+,-./:;<=>?@[\\]^_`{|}~\n"
     ]
    }
   ],
   "source": [
    "#Import the english stop words list from NLTK\n",
    "stopwords_english = stopwords.words('english') \n",
    "\n",
    "print('Stop words\\n')\n",
    "print(stopwords_english)\n",
    "\n",
    "print('\\nPunctuation\\n')\n",
    "print(string.punctuation)"
   ]
  },
  {
   "attachments": {},
   "cell_type": "markdown",
   "metadata": {
    "id": "CgLmDiBNQ1lS"
   },
   "source": [
    "We can see that the stop words list above contains some words that could be important in some contexts. \n",
    "\n",
    "\n",
    "Time to clean up our tokenized tweet!"
   ]
  },
  {
   "cell_type": "code",
   "execution_count": 12,
   "metadata": {
    "id": "HNhIlrG1Q1lT"
   },
   "outputs": [
    {
     "name": "stdout",
     "output_type": "stream",
     "text": [
      "['my', 'beautiful', 'sunflowers', 'on', 'a', 'sunny', 'friday', 'morning', 'off', ':)', 'sunflowers', 'favourites', 'happy', 'friday', 'off', '…']\n",
      "removed stop words and punctuation:\n",
      "['beautiful', 'sunflowers', 'sunny', 'friday', 'morning', ':)', 'sunflowers', 'favourites', 'happy', 'friday', '…']\n"
     ]
    }
   ],
   "source": [
    "\n",
    "print(tweet_tokens)\n",
    "\n",
    "tweets_clean = []\n",
    "\n",
    "for word in tweet_tokens: # Go through every word in your tokens list\n",
    "    if (word not in stopwords_english and  # remove stopwords\n",
    "        word not in string.punctuation):  # remove punctuation\n",
    "        tweets_clean.append(word)\n",
    "\n",
    "print('removed stop words and punctuation:')\n",
    "print(tweets_clean)"
   ]
  },
  {
   "attachments": {},
   "cell_type": "markdown",
   "metadata": {
    "id": "Lu-m6zZwQ1lT"
   },
   "source": [
    "Please note that the words **happy** and **sunny** in this list are correctly spelled. "
   ]
  },
  {
   "attachments": {},
   "cell_type": "markdown",
   "metadata": {
    "id": "aYU0Fo6vQ1lT"
   },
   "source": [
    "### Stemming\n",
    "\n",
    "Stemming is the process of converting a word to its most general form, or stem. This helps in reducing the size of our vocabulary.\n",
    "\n",
    "Consider the words: \n",
    " * **learn**\n",
    " * **learn**ing\n",
    " * **learn**ed\n",
    " * **learn**t\n",
    " \n",
    "All these words are stemmed from its common root **learn**. However, in some cases, the stemming process produces words that are not correct spellings of the root word. For example, **happi** and **sunni**. That's because it chooses the most common stem for related words. For example, we can look at the set of words that comprises the different forms of happy:\n",
    "\n",
    " * **happ**y\n",
    " * **happi**ness\n",
    " * **happi**er\n",
    " \n",
    "We can see that the prefix **happi** is more commonly used. We cannot choose **happ** because it is the stem of unrelated words like **happen**.\n",
    " \n",
    "NLTK has different modules for stemming and we will be using the [PorterStemmer](https://www.nltk.org/api/nltk.stem.html#module-nltk.stem.porter) module which uses the [Porter Stemming Algorithm](https://tartarus.org/martin/PorterStemmer/). Let's see how we can use it in the cell below."
   ]
  },
  {
   "cell_type": "code",
   "execution_count": 13,
   "metadata": {
    "id": "dPUI2hi3Q1lT"
   },
   "outputs": [
    {
     "name": "stdout",
     "output_type": "stream",
     "text": [
      "['beautiful', 'sunflowers', 'sunny', 'friday', 'morning', ':)', 'sunflowers', 'favourites', 'happy', 'friday', '…']\n",
      "stemmed words:\n",
      "['beauti', 'sunflow', 'sunni', 'friday', 'morn', ':)', 'sunflow', 'favourit', 'happi', 'friday', '…']\n"
     ]
    }
   ],
   "source": [
    "\n",
    "print(tweets_clean)\n",
    "\n",
    "# Instantiate stemming class\n",
    "stemmer = PorterStemmer() \n",
    "\n",
    "# Create an empty list to store the stems\n",
    "tweets_stem = [] \n",
    "\n",
    "for word in tweets_clean:\n",
    "    stem_word = stemmer.stem(word)  # stemming word\n",
    "    tweets_stem.append(stem_word)  # append to the list\n",
    "\n",
    "print('stemmed words:')\n",
    "print(tweets_stem)"
   ]
  },
  {
   "cell_type": "code",
   "execution_count": 14,
   "metadata": {
    "id": "-NlATHQ8z2Cc"
   },
   "outputs": [
    {
     "data": {
      "text/plain": [
       "'beauti sunflow sunni friday morn :) sunflow favourit happi friday …'"
      ]
     },
     "execution_count": 14,
     "metadata": {},
     "output_type": "execute_result"
    }
   ],
   "source": [
    "processed_tweet=' '.join(tweets_stem)\n",
    "processed_tweet"
   ]
  },
  {
   "attachments": {},
   "cell_type": "markdown",
   "metadata": {
    "id": "kXevPC2RQ1lU"
   },
   "source": [
    "That's it! Now we have a sentence which can be feed into to the next stage \n",
    "of our  project."
   ]
  },
  {
   "attachments": {},
   "cell_type": "markdown",
   "metadata": {
    "id": "zBHp8KB83xz1"
   },
   "source": [
    "."
   ]
  },
  {
   "attachments": {},
   "cell_type": "markdown",
   "metadata": {
    "id": "wlUUC5S33jMQ"
   },
   "source": [
    "PART 2: Sentimental Analysis"
   ]
  },
  {
   "cell_type": "code",
   "execution_count": 15,
   "metadata": {
    "id": "Ifa_z4zG3MH_"
   },
   "outputs": [
    {
     "name": "stderr",
     "output_type": "stream",
     "text": [
      "[nltk_data] Downloading package twitter_samples to\n",
      "[nltk_data]     C:\\Users\\Sanjay\\AppData\\Roaming\\nltk_data...\n",
      "[nltk_data]   Package twitter_samples is already up-to-date!\n"
     ]
    }
   ],
   "source": [
    "import numpy as np\n",
    "import pandas as pd\n",
    "nltk.download('twitter_samples')\n",
    "# select the lists of positive and negative tweets\n",
    "all_positive_tweets = twitter_samples.strings('positive_tweets.json')\n",
    "all_negative_tweets = twitter_samples.strings('negative_tweets.json')\n",
    "\n",
    "# concatenate the lists, 1st part is the positive tweets followed by the negative\n",
    "tweets = all_positive_tweets + all_negative_tweets"
   ]
  },
  {
   "cell_type": "code",
   "execution_count": 16,
   "metadata": {
    "id": "P1qocwU-A_UO"
   },
   "outputs": [
    {
     "data": {
      "text/plain": [
       "\"Since models own stopped stocking at boots I can't get any and I can't even order online because it's telling me it's unsafe :(\""
      ]
     },
     "execution_count": 16,
     "metadata": {},
     "output_type": "execute_result"
    }
   ],
   "source": [
    "    #print tweets here\n",
    "tweets[np.random.randint(0,10001)]"
   ]
  },
  {
   "cell_type": "code",
   "execution_count": 17,
   "metadata": {
    "id": "VRQ9PKcs6gAy"
   },
   "outputs": [],
   "source": [
    "y=np.zeros(10000)\n",
    "for i in range(5000):\n",
    "  y[i]=1"
   ]
  },
  {
   "attachments": {},
   "cell_type": "markdown",
   "metadata": {
    "id": "u28Un7Yc2w0x"
   },
   "source": [
    "Now make a function and implement pre-processing into all tweets and then make an array that contains all processed tweets as strings."
   ]
  },
  {
   "cell_type": "code",
   "execution_count": 18,
   "metadata": {},
   "outputs": [],
   "source": [
    "def tokeniser(tweet):\n",
    "    tweet_tokens=[]\n",
    "    tweet_clean=[]\n",
    "    tokenizer = TweetTokenizer(preserve_case=False, strip_handles=True,\n",
    "                               reduce_len=True)\n",
    "    \n",
    "    tweet_tokens = tokenizer.tokenize(tweet)\n",
    "    tweets_clean = [word for word in tweet_tokens if word not in stopwords_english and word not in string.punctuation]\n",
    "    \n",
    "\n",
    "    return tweets_clean\n",
    "def stemming(tweets_clean):\n",
    "    stemmer=PorterStemmer()\n",
    "    tweets_stem=[]\n",
    "    tweets_stem = [stemmer.stem(word) for word in tweets_clean]\n",
    "    return ' '.join(tweets_clean)    \n",
    "def format_tweeets(tweet_list):\n",
    "    processed_tweets=[]\n",
    "    with tqdm(total=len(tweet_list), desc=\"Processing\") as pbar:\n",
    "        for tweet in tweet_list:\n",
    "            tweet =re.sub(r'^RT[\\s]+', '', tweet)\n",
    "            tweet=re.sub(r'https?://[^\\s\\n\\r]+', '', tweet)\n",
    "            tweet = re.sub(r'#', '', tweet)\n",
    "            processed_tweets.append(stemming(tokeniser(tweet)))\n",
    "            pbar.update(1)\n",
    "    return processed_tweets\n",
    "\n"
   ]
  },
  {
   "cell_type": "code",
   "execution_count": 19,
   "metadata": {
    "id": "HLvmNbV_3W1z"
   },
   "outputs": [
    {
     "name": "stderr",
     "output_type": "stream",
     "text": [
      "Processing: 100%|██████████| 10000/10000 [00:05<00:00, 1915.41it/s]\n"
     ]
    }
   ],
   "source": [
    "# Write your code here\n",
    "\n",
    "nptweets=np.array(tweets)\n",
    "formatted_tweets=format_tweeets(nptweets)\n",
    "# formatted_tweets=[]\n",
    "# i=0\n",
    "\n",
    "# for tweet in nptweets:\n",
    "#     tweet =re.sub(r'^RT[\\s]+', '', tweet)\n",
    "#     tweet=re.sub(r'https?://[^\\s\\n\\r]+', '', tweet)\n",
    "#     tweet = re.sub(r'#', '', t weet)\n",
    "#     formatted_tweets.append(stemming(tokeniser(tweet)))\n",
    "#     i+=1\n",
    "#     print_and_clear(i)\n",
    "    \n"
   ]
  },
  {
   "cell_type": "code",
   "execution_count": 20,
   "metadata": {},
   "outputs": [
    {
     "name": "stdout",
     "output_type": "stream",
     "text": [
      "<class 'list'>\n",
      "\n",
      "\n",
      "['followfriday top engaged members community week :)', 'hey james odd :/ please call contact centre 02392441234 able assist :) many thanks']\n"
     ]
    }
   ],
   "source": [
    "print(type(tweets))\n",
    "print()\n",
    "print()\n",
    "print(formatted_tweets[:2])"
   ]
  },
  {
   "attachments": {},
   "cell_type": "markdown",
   "metadata": {
    "id": "zDYnvp9u4Rn3"
   },
   "source": [
    "Now use **TfidfVectorizer** to vectorize your tweets into a numbered matrix \n",
    " **X**."
   ]
  },
  {
   "attachments": {},
   "cell_type": "markdown",
   "metadata": {},
   "source": [
    "### What is `TfidVectorizer`?\n",
    "\n",
    "**TF-IDF**: TF-IDF is a way to measure the importance of words in a document. It considers two factors:\n",
    "\n",
    "**Term Frequency (TF)**: How often a word appears in a document.\n",
    "**Inverse Document Frequency (IDF)**: How common or rare a word is across all documents.\n",
    "TF-IDF gives higher weight to words that appear frequently in a document but less frequently in the entire collection of documents. This helps to highlight important words that are unique to specific documents.\n",
    "\n",
    "**Vectorization**: TfidfVectorizer converts text documents into numbers, allowing us to perform calculations and analysis on the text. It represents each document as a numerical vector. The vector contains information about the importance of different words in the document.\n",
    "\n",
    "**Feature Extraction**: TfidfVectorizer performs preprocessing on text documents. It breaks down the text into individual words, converts them to lowercase, and removes unnecessary words like \"the\" or \"and\". It also considers sequences of words (n-grams) to capture more contextual information.\n",
    "\n",
    "Parameters: TfidfVectorizer has options to customize its behavior. For example:\n",
    "\n",
    "**max_features** limits the number of words (features) used in the vectorization process.\n",
    "**ngram_range** determines the size of word sequences to consider (e.g., single words, pairs of words, etc.).\n",
    "**stop_words** specifies a list of common words to ignore during vectorization.\n",
    "**use_idf** controls whether IDF weighting is applied.\n",
    "**Fit and Transform**: To use TfidfVectorizer, you first fit it on your training data to learn the vocabulary and calculate the TF-IDF values. Then, you can transform new documents using the same vectorizer, ensuring consistent representation across different datasets.\n",
    "\n",
    "In simpler terms, TfidfVectorizer helps convert text documents into meaningful numerical representations. It considers word importance based on frequency and rarity, and it allows you to customize its behavior. By fitting and transforming the data, you can use the resulting numerical matrix for various analysis tasks."
   ]
  },
  {
   "cell_type": "code",
   "execution_count": 21,
   "metadata": {
    "id": "hG2SOoi83bTd"
   },
   "outputs": [
    {
     "name": "stdout",
     "output_type": "stream",
     "text": [
      "[[0. 0. 0. ... 0. 0. 0.]\n",
      " [0. 0. 0. ... 0. 0. 0.]\n",
      " [0. 0. 0. ... 0. 0. 0.]\n",
      " ...\n",
      " [0. 0. 0. ... 0. 0. 0.]\n",
      " [0. 0. 0. ... 0. 0. 0.]\n",
      " [0. 0. 0. ... 0. 0. 0.]]\n"
     ]
    },
    {
     "data": {
      "text/html": [
       "<div>\n",
       "<style scoped>\n",
       "    .dataframe tbody tr th:only-of-type {\n",
       "        vertical-align: middle;\n",
       "    }\n",
       "\n",
       "    .dataframe tbody tr th {\n",
       "        vertical-align: top;\n",
       "    }\n",
       "\n",
       "    .dataframe thead th {\n",
       "        text-align: right;\n",
       "    }\n",
       "</style>\n",
       "<table border=\"1\" class=\"dataframe\">\n",
       "  <thead>\n",
       "    <tr style=\"text-align: right;\">\n",
       "      <th></th>\n",
       "      <th>0</th>\n",
       "      <th>1</th>\n",
       "      <th>2</th>\n",
       "      <th>3</th>\n",
       "      <th>4</th>\n",
       "      <th>5</th>\n",
       "      <th>6</th>\n",
       "      <th>7</th>\n",
       "      <th>8</th>\n",
       "      <th>9</th>\n",
       "      <th>...</th>\n",
       "      <th>11911</th>\n",
       "      <th>11912</th>\n",
       "      <th>11913</th>\n",
       "      <th>11914</th>\n",
       "      <th>11915</th>\n",
       "      <th>11916</th>\n",
       "      <th>11917</th>\n",
       "      <th>11918</th>\n",
       "      <th>11919</th>\n",
       "      <th>11920</th>\n",
       "    </tr>\n",
       "  </thead>\n",
       "  <tbody>\n",
       "    <tr>\n",
       "      <th>0</th>\n",
       "      <td>0.0</td>\n",
       "      <td>0.0</td>\n",
       "      <td>0.0</td>\n",
       "      <td>0.0</td>\n",
       "      <td>0.0</td>\n",
       "      <td>0.0</td>\n",
       "      <td>0.0</td>\n",
       "      <td>0.0</td>\n",
       "      <td>0.0</td>\n",
       "      <td>0.0</td>\n",
       "      <td>...</td>\n",
       "      <td>0.0</td>\n",
       "      <td>0.0</td>\n",
       "      <td>0.0</td>\n",
       "      <td>0.0</td>\n",
       "      <td>0.0</td>\n",
       "      <td>0.0</td>\n",
       "      <td>0.0</td>\n",
       "      <td>0.0</td>\n",
       "      <td>0.0</td>\n",
       "      <td>0.0</td>\n",
       "    </tr>\n",
       "    <tr>\n",
       "      <th>1</th>\n",
       "      <td>0.0</td>\n",
       "      <td>0.0</td>\n",
       "      <td>0.0</td>\n",
       "      <td>0.0</td>\n",
       "      <td>0.0</td>\n",
       "      <td>0.0</td>\n",
       "      <td>0.0</td>\n",
       "      <td>0.0</td>\n",
       "      <td>0.0</td>\n",
       "      <td>0.0</td>\n",
       "      <td>...</td>\n",
       "      <td>0.0</td>\n",
       "      <td>0.0</td>\n",
       "      <td>0.0</td>\n",
       "      <td>0.0</td>\n",
       "      <td>0.0</td>\n",
       "      <td>0.0</td>\n",
       "      <td>0.0</td>\n",
       "      <td>0.0</td>\n",
       "      <td>0.0</td>\n",
       "      <td>0.0</td>\n",
       "    </tr>\n",
       "    <tr>\n",
       "      <th>2</th>\n",
       "      <td>0.0</td>\n",
       "      <td>0.0</td>\n",
       "      <td>0.0</td>\n",
       "      <td>0.0</td>\n",
       "      <td>0.0</td>\n",
       "      <td>0.0</td>\n",
       "      <td>0.0</td>\n",
       "      <td>0.0</td>\n",
       "      <td>0.0</td>\n",
       "      <td>0.0</td>\n",
       "      <td>...</td>\n",
       "      <td>0.0</td>\n",
       "      <td>0.0</td>\n",
       "      <td>0.0</td>\n",
       "      <td>0.0</td>\n",
       "      <td>0.0</td>\n",
       "      <td>0.0</td>\n",
       "      <td>0.0</td>\n",
       "      <td>0.0</td>\n",
       "      <td>0.0</td>\n",
       "      <td>0.0</td>\n",
       "    </tr>\n",
       "    <tr>\n",
       "      <th>3</th>\n",
       "      <td>0.0</td>\n",
       "      <td>0.0</td>\n",
       "      <td>0.0</td>\n",
       "      <td>0.0</td>\n",
       "      <td>0.0</td>\n",
       "      <td>0.0</td>\n",
       "      <td>0.0</td>\n",
       "      <td>0.0</td>\n",
       "      <td>0.0</td>\n",
       "      <td>0.0</td>\n",
       "      <td>...</td>\n",
       "      <td>0.0</td>\n",
       "      <td>0.0</td>\n",
       "      <td>0.0</td>\n",
       "      <td>0.0</td>\n",
       "      <td>0.0</td>\n",
       "      <td>0.0</td>\n",
       "      <td>0.0</td>\n",
       "      <td>0.0</td>\n",
       "      <td>0.0</td>\n",
       "      <td>0.0</td>\n",
       "    </tr>\n",
       "    <tr>\n",
       "      <th>4</th>\n",
       "      <td>0.0</td>\n",
       "      <td>0.0</td>\n",
       "      <td>0.0</td>\n",
       "      <td>0.0</td>\n",
       "      <td>0.0</td>\n",
       "      <td>0.0</td>\n",
       "      <td>0.0</td>\n",
       "      <td>0.0</td>\n",
       "      <td>0.0</td>\n",
       "      <td>0.0</td>\n",
       "      <td>...</td>\n",
       "      <td>0.0</td>\n",
       "      <td>0.0</td>\n",
       "      <td>0.0</td>\n",
       "      <td>0.0</td>\n",
       "      <td>0.0</td>\n",
       "      <td>0.0</td>\n",
       "      <td>0.0</td>\n",
       "      <td>0.0</td>\n",
       "      <td>0.0</td>\n",
       "      <td>0.0</td>\n",
       "    </tr>\n",
       "    <tr>\n",
       "      <th>...</th>\n",
       "      <td>...</td>\n",
       "      <td>...</td>\n",
       "      <td>...</td>\n",
       "      <td>...</td>\n",
       "      <td>...</td>\n",
       "      <td>...</td>\n",
       "      <td>...</td>\n",
       "      <td>...</td>\n",
       "      <td>...</td>\n",
       "      <td>...</td>\n",
       "      <td>...</td>\n",
       "      <td>...</td>\n",
       "      <td>...</td>\n",
       "      <td>...</td>\n",
       "      <td>...</td>\n",
       "      <td>...</td>\n",
       "      <td>...</td>\n",
       "      <td>...</td>\n",
       "      <td>...</td>\n",
       "      <td>...</td>\n",
       "      <td>...</td>\n",
       "    </tr>\n",
       "    <tr>\n",
       "      <th>9995</th>\n",
       "      <td>0.0</td>\n",
       "      <td>0.0</td>\n",
       "      <td>0.0</td>\n",
       "      <td>0.0</td>\n",
       "      <td>0.0</td>\n",
       "      <td>0.0</td>\n",
       "      <td>0.0</td>\n",
       "      <td>0.0</td>\n",
       "      <td>0.0</td>\n",
       "      <td>0.0</td>\n",
       "      <td>...</td>\n",
       "      <td>0.0</td>\n",
       "      <td>0.0</td>\n",
       "      <td>0.0</td>\n",
       "      <td>0.0</td>\n",
       "      <td>0.0</td>\n",
       "      <td>0.0</td>\n",
       "      <td>0.0</td>\n",
       "      <td>0.0</td>\n",
       "      <td>0.0</td>\n",
       "      <td>0.0</td>\n",
       "    </tr>\n",
       "    <tr>\n",
       "      <th>9996</th>\n",
       "      <td>0.0</td>\n",
       "      <td>0.0</td>\n",
       "      <td>0.0</td>\n",
       "      <td>0.0</td>\n",
       "      <td>0.0</td>\n",
       "      <td>0.0</td>\n",
       "      <td>0.0</td>\n",
       "      <td>0.0</td>\n",
       "      <td>0.0</td>\n",
       "      <td>0.0</td>\n",
       "      <td>...</td>\n",
       "      <td>0.0</td>\n",
       "      <td>0.0</td>\n",
       "      <td>0.0</td>\n",
       "      <td>0.0</td>\n",
       "      <td>0.0</td>\n",
       "      <td>0.0</td>\n",
       "      <td>0.0</td>\n",
       "      <td>0.0</td>\n",
       "      <td>0.0</td>\n",
       "      <td>0.0</td>\n",
       "    </tr>\n",
       "    <tr>\n",
       "      <th>9997</th>\n",
       "      <td>0.0</td>\n",
       "      <td>0.0</td>\n",
       "      <td>0.0</td>\n",
       "      <td>0.0</td>\n",
       "      <td>0.0</td>\n",
       "      <td>0.0</td>\n",
       "      <td>0.0</td>\n",
       "      <td>0.0</td>\n",
       "      <td>0.0</td>\n",
       "      <td>0.0</td>\n",
       "      <td>...</td>\n",
       "      <td>0.0</td>\n",
       "      <td>0.0</td>\n",
       "      <td>0.0</td>\n",
       "      <td>0.0</td>\n",
       "      <td>0.0</td>\n",
       "      <td>0.0</td>\n",
       "      <td>0.0</td>\n",
       "      <td>0.0</td>\n",
       "      <td>0.0</td>\n",
       "      <td>0.0</td>\n",
       "    </tr>\n",
       "    <tr>\n",
       "      <th>9998</th>\n",
       "      <td>0.0</td>\n",
       "      <td>0.0</td>\n",
       "      <td>0.0</td>\n",
       "      <td>0.0</td>\n",
       "      <td>0.0</td>\n",
       "      <td>0.0</td>\n",
       "      <td>0.0</td>\n",
       "      <td>0.0</td>\n",
       "      <td>0.0</td>\n",
       "      <td>0.0</td>\n",
       "      <td>...</td>\n",
       "      <td>0.0</td>\n",
       "      <td>0.0</td>\n",
       "      <td>0.0</td>\n",
       "      <td>0.0</td>\n",
       "      <td>0.0</td>\n",
       "      <td>0.0</td>\n",
       "      <td>0.0</td>\n",
       "      <td>0.0</td>\n",
       "      <td>0.0</td>\n",
       "      <td>0.0</td>\n",
       "    </tr>\n",
       "    <tr>\n",
       "      <th>9999</th>\n",
       "      <td>0.0</td>\n",
       "      <td>0.0</td>\n",
       "      <td>0.0</td>\n",
       "      <td>0.0</td>\n",
       "      <td>0.0</td>\n",
       "      <td>0.0</td>\n",
       "      <td>0.0</td>\n",
       "      <td>0.0</td>\n",
       "      <td>0.0</td>\n",
       "      <td>0.0</td>\n",
       "      <td>...</td>\n",
       "      <td>0.0</td>\n",
       "      <td>0.0</td>\n",
       "      <td>0.0</td>\n",
       "      <td>0.0</td>\n",
       "      <td>0.0</td>\n",
       "      <td>0.0</td>\n",
       "      <td>0.0</td>\n",
       "      <td>0.0</td>\n",
       "      <td>0.0</td>\n",
       "      <td>0.0</td>\n",
       "    </tr>\n",
       "  </tbody>\n",
       "</table>\n",
       "<p>10000 rows × 11921 columns</p>\n",
       "</div>"
      ],
      "text/plain": [
       "      0      1      2      3      4      5      6      7      8      9      \\\n",
       "0       0.0    0.0    0.0    0.0    0.0    0.0    0.0    0.0    0.0    0.0   \n",
       "1       0.0    0.0    0.0    0.0    0.0    0.0    0.0    0.0    0.0    0.0   \n",
       "2       0.0    0.0    0.0    0.0    0.0    0.0    0.0    0.0    0.0    0.0   \n",
       "3       0.0    0.0    0.0    0.0    0.0    0.0    0.0    0.0    0.0    0.0   \n",
       "4       0.0    0.0    0.0    0.0    0.0    0.0    0.0    0.0    0.0    0.0   \n",
       "...     ...    ...    ...    ...    ...    ...    ...    ...    ...    ...   \n",
       "9995    0.0    0.0    0.0    0.0    0.0    0.0    0.0    0.0    0.0    0.0   \n",
       "9996    0.0    0.0    0.0    0.0    0.0    0.0    0.0    0.0    0.0    0.0   \n",
       "9997    0.0    0.0    0.0    0.0    0.0    0.0    0.0    0.0    0.0    0.0   \n",
       "9998    0.0    0.0    0.0    0.0    0.0    0.0    0.0    0.0    0.0    0.0   \n",
       "9999    0.0    0.0    0.0    0.0    0.0    0.0    0.0    0.0    0.0    0.0   \n",
       "\n",
       "      ...  11911  11912  11913  11914  11915  11916  11917  11918  11919  \\\n",
       "0     ...    0.0    0.0    0.0    0.0    0.0    0.0    0.0    0.0    0.0   \n",
       "1     ...    0.0    0.0    0.0    0.0    0.0    0.0    0.0    0.0    0.0   \n",
       "2     ...    0.0    0.0    0.0    0.0    0.0    0.0    0.0    0.0    0.0   \n",
       "3     ...    0.0    0.0    0.0    0.0    0.0    0.0    0.0    0.0    0.0   \n",
       "4     ...    0.0    0.0    0.0    0.0    0.0    0.0    0.0    0.0    0.0   \n",
       "...   ...    ...    ...    ...    ...    ...    ...    ...    ...    ...   \n",
       "9995  ...    0.0    0.0    0.0    0.0    0.0    0.0    0.0    0.0    0.0   \n",
       "9996  ...    0.0    0.0    0.0    0.0    0.0    0.0    0.0    0.0    0.0   \n",
       "9997  ...    0.0    0.0    0.0    0.0    0.0    0.0    0.0    0.0    0.0   \n",
       "9998  ...    0.0    0.0    0.0    0.0    0.0    0.0    0.0    0.0    0.0   \n",
       "9999  ...    0.0    0.0    0.0    0.0    0.0    0.0    0.0    0.0    0.0   \n",
       "\n",
       "      11920  \n",
       "0       0.0  \n",
       "1       0.0  \n",
       "2       0.0  \n",
       "3       0.0  \n",
       "4       0.0  \n",
       "...     ...  \n",
       "9995    0.0  \n",
       "9996    0.0  \n",
       "9997    0.0  \n",
       "9998    0.0  \n",
       "9999    0.0  \n",
       "\n",
       "[10000 rows x 11921 columns]"
      ]
     },
     "execution_count": 21,
     "metadata": {},
     "output_type": "execute_result"
    }
   ],
   "source": [
    "from sklearn.feature_extraction.text import TfidfVectorizer\n",
    "import pandas as pd\n",
    "vectoriser = TfidfVectorizer()\n",
    "X = vectoriser.fit_transform(formatted_tweets)\n",
    "X_sparse=X.toarray()\n",
    "df=pd.DataFrame(X_sparse)\n",
    "print(X_sparse)\n",
    "df"
   ]
  },
  {
   "attachments": {},
   "cell_type": "markdown",
   "metadata": {
    "id": "WyO-tSZl7n4_"
   },
   "source": [
    "Now you have a matrix **X** and **y** implement a model to classify this tweets.\n",
    "\n",
    "Note: \n",
    "\n",
    "1) You can use sequential models with tensorflow in which use 2 nodes in last layer.\n",
    "\n",
    "2) The node which has a higher value while using *model.predict* corresponds to the output.\n",
    "\n",
    "3) Use **SparseCategoricalCrossentropy** as a loss function."
   ]
  },
  {
   "cell_type": "code",
   "execution_count": 22,
   "metadata": {
    "id": "iyha1mVG7fgh"
   },
   "outputs": [
    {
     "data": {
      "text/plain": [
       "array([1., 1., 1., ..., 0., 0., 0.])"
      ]
     },
     "execution_count": 22,
     "metadata": {},
     "output_type": "execute_result"
    }
   ],
   "source": [
    "from sklearn import datasets\n",
    "from sklearn.model_selection import train_test_split\n",
    "X_train, X_test, y_train, y_test = train_test_split(X_sparse, y, test_size=0.2, random_state=1234)\n",
    "dataset = df = pd.DataFrame(X_sparse)\n",
    "\n",
    "train_dataset = pd.DataFrame(X_train)\n",
    "train_dataset['Output']=y_train\n",
    "train_dataset_labels = train_dataset.pop('Output')\n",
    "test_dataset = pd.DataFrame(X_test)\n",
    "test_dataset['Output'] = y_test\n",
    "test_dataset_labels = test_dataset.pop('Output')\n",
    "dataset['Output'] = y\n",
    "y"
   ]
  },
  {
   "cell_type": "code",
   "execution_count": 23,
   "metadata": {},
   "outputs": [
    {
     "name": "stdout",
     "output_type": "stream",
     "text": [
      "(2000, 11921)\n"
     ]
    }
   ],
   "source": [
    "print(test_dataset.shape)"
   ]
  },
  {
   "cell_type": "code",
   "execution_count": 24,
   "metadata": {},
   "outputs": [
    {
     "data": {
      "text/html": [
       "<div>\n",
       "<style scoped>\n",
       "    .dataframe tbody tr th:only-of-type {\n",
       "        vertical-align: middle;\n",
       "    }\n",
       "\n",
       "    .dataframe tbody tr th {\n",
       "        vertical-align: top;\n",
       "    }\n",
       "\n",
       "    .dataframe thead th {\n",
       "        text-align: right;\n",
       "    }\n",
       "</style>\n",
       "<table border=\"1\" class=\"dataframe\">\n",
       "  <thead>\n",
       "    <tr style=\"text-align: right;\">\n",
       "      <th></th>\n",
       "      <th>0</th>\n",
       "      <th>1</th>\n",
       "      <th>2</th>\n",
       "      <th>3</th>\n",
       "      <th>4</th>\n",
       "      <th>5</th>\n",
       "      <th>6</th>\n",
       "      <th>7</th>\n",
       "      <th>8</th>\n",
       "      <th>9</th>\n",
       "      <th>...</th>\n",
       "      <th>11911</th>\n",
       "      <th>11912</th>\n",
       "      <th>11913</th>\n",
       "      <th>11914</th>\n",
       "      <th>11915</th>\n",
       "      <th>11916</th>\n",
       "      <th>11917</th>\n",
       "      <th>11918</th>\n",
       "      <th>11919</th>\n",
       "      <th>11920</th>\n",
       "    </tr>\n",
       "  </thead>\n",
       "  <tbody>\n",
       "    <tr>\n",
       "      <th>0</th>\n",
       "      <td>0.0</td>\n",
       "      <td>0.0</td>\n",
       "      <td>0.0</td>\n",
       "      <td>0.0</td>\n",
       "      <td>0.0</td>\n",
       "      <td>0.0</td>\n",
       "      <td>0.0</td>\n",
       "      <td>0.0</td>\n",
       "      <td>0.0</td>\n",
       "      <td>0.0</td>\n",
       "      <td>...</td>\n",
       "      <td>0.0</td>\n",
       "      <td>0.0</td>\n",
       "      <td>0.0</td>\n",
       "      <td>0.0</td>\n",
       "      <td>0.0</td>\n",
       "      <td>0.0</td>\n",
       "      <td>0.0</td>\n",
       "      <td>0.0</td>\n",
       "      <td>0.0</td>\n",
       "      <td>0.0</td>\n",
       "    </tr>\n",
       "    <tr>\n",
       "      <th>1</th>\n",
       "      <td>0.0</td>\n",
       "      <td>0.0</td>\n",
       "      <td>0.0</td>\n",
       "      <td>0.0</td>\n",
       "      <td>0.0</td>\n",
       "      <td>0.0</td>\n",
       "      <td>0.0</td>\n",
       "      <td>0.0</td>\n",
       "      <td>0.0</td>\n",
       "      <td>0.0</td>\n",
       "      <td>...</td>\n",
       "      <td>0.0</td>\n",
       "      <td>0.0</td>\n",
       "      <td>0.0</td>\n",
       "      <td>0.0</td>\n",
       "      <td>0.0</td>\n",
       "      <td>0.0</td>\n",
       "      <td>0.0</td>\n",
       "      <td>0.0</td>\n",
       "      <td>0.0</td>\n",
       "      <td>0.0</td>\n",
       "    </tr>\n",
       "    <tr>\n",
       "      <th>2</th>\n",
       "      <td>0.0</td>\n",
       "      <td>0.0</td>\n",
       "      <td>0.0</td>\n",
       "      <td>0.0</td>\n",
       "      <td>0.0</td>\n",
       "      <td>0.0</td>\n",
       "      <td>0.0</td>\n",
       "      <td>0.0</td>\n",
       "      <td>0.0</td>\n",
       "      <td>0.0</td>\n",
       "      <td>...</td>\n",
       "      <td>0.0</td>\n",
       "      <td>0.0</td>\n",
       "      <td>0.0</td>\n",
       "      <td>0.0</td>\n",
       "      <td>0.0</td>\n",
       "      <td>0.0</td>\n",
       "      <td>0.0</td>\n",
       "      <td>0.0</td>\n",
       "      <td>0.0</td>\n",
       "      <td>0.0</td>\n",
       "    </tr>\n",
       "    <tr>\n",
       "      <th>3</th>\n",
       "      <td>0.0</td>\n",
       "      <td>0.0</td>\n",
       "      <td>0.0</td>\n",
       "      <td>0.0</td>\n",
       "      <td>0.0</td>\n",
       "      <td>0.0</td>\n",
       "      <td>0.0</td>\n",
       "      <td>0.0</td>\n",
       "      <td>0.0</td>\n",
       "      <td>0.0</td>\n",
       "      <td>...</td>\n",
       "      <td>0.0</td>\n",
       "      <td>0.0</td>\n",
       "      <td>0.0</td>\n",
       "      <td>0.0</td>\n",
       "      <td>0.0</td>\n",
       "      <td>0.0</td>\n",
       "      <td>0.0</td>\n",
       "      <td>0.0</td>\n",
       "      <td>0.0</td>\n",
       "      <td>0.0</td>\n",
       "    </tr>\n",
       "    <tr>\n",
       "      <th>4</th>\n",
       "      <td>0.0</td>\n",
       "      <td>0.0</td>\n",
       "      <td>0.0</td>\n",
       "      <td>0.0</td>\n",
       "      <td>0.0</td>\n",
       "      <td>0.0</td>\n",
       "      <td>0.0</td>\n",
       "      <td>0.0</td>\n",
       "      <td>0.0</td>\n",
       "      <td>0.0</td>\n",
       "      <td>...</td>\n",
       "      <td>0.0</td>\n",
       "      <td>0.0</td>\n",
       "      <td>0.0</td>\n",
       "      <td>0.0</td>\n",
       "      <td>0.0</td>\n",
       "      <td>0.0</td>\n",
       "      <td>0.0</td>\n",
       "      <td>0.0</td>\n",
       "      <td>0.0</td>\n",
       "      <td>0.0</td>\n",
       "    </tr>\n",
       "    <tr>\n",
       "      <th>...</th>\n",
       "      <td>...</td>\n",
       "      <td>...</td>\n",
       "      <td>...</td>\n",
       "      <td>...</td>\n",
       "      <td>...</td>\n",
       "      <td>...</td>\n",
       "      <td>...</td>\n",
       "      <td>...</td>\n",
       "      <td>...</td>\n",
       "      <td>...</td>\n",
       "      <td>...</td>\n",
       "      <td>...</td>\n",
       "      <td>...</td>\n",
       "      <td>...</td>\n",
       "      <td>...</td>\n",
       "      <td>...</td>\n",
       "      <td>...</td>\n",
       "      <td>...</td>\n",
       "      <td>...</td>\n",
       "      <td>...</td>\n",
       "      <td>...</td>\n",
       "    </tr>\n",
       "    <tr>\n",
       "      <th>7995</th>\n",
       "      <td>0.0</td>\n",
       "      <td>0.0</td>\n",
       "      <td>0.0</td>\n",
       "      <td>0.0</td>\n",
       "      <td>0.0</td>\n",
       "      <td>0.0</td>\n",
       "      <td>0.0</td>\n",
       "      <td>0.0</td>\n",
       "      <td>0.0</td>\n",
       "      <td>0.0</td>\n",
       "      <td>...</td>\n",
       "      <td>0.0</td>\n",
       "      <td>0.0</td>\n",
       "      <td>0.0</td>\n",
       "      <td>0.0</td>\n",
       "      <td>0.0</td>\n",
       "      <td>0.0</td>\n",
       "      <td>0.0</td>\n",
       "      <td>0.0</td>\n",
       "      <td>0.0</td>\n",
       "      <td>0.0</td>\n",
       "    </tr>\n",
       "    <tr>\n",
       "      <th>7996</th>\n",
       "      <td>0.0</td>\n",
       "      <td>0.0</td>\n",
       "      <td>0.0</td>\n",
       "      <td>0.0</td>\n",
       "      <td>0.0</td>\n",
       "      <td>0.0</td>\n",
       "      <td>0.0</td>\n",
       "      <td>0.0</td>\n",
       "      <td>0.0</td>\n",
       "      <td>0.0</td>\n",
       "      <td>...</td>\n",
       "      <td>0.0</td>\n",
       "      <td>0.0</td>\n",
       "      <td>0.0</td>\n",
       "      <td>0.0</td>\n",
       "      <td>0.0</td>\n",
       "      <td>0.0</td>\n",
       "      <td>0.0</td>\n",
       "      <td>0.0</td>\n",
       "      <td>0.0</td>\n",
       "      <td>0.0</td>\n",
       "    </tr>\n",
       "    <tr>\n",
       "      <th>7997</th>\n",
       "      <td>0.0</td>\n",
       "      <td>0.0</td>\n",
       "      <td>0.0</td>\n",
       "      <td>0.0</td>\n",
       "      <td>0.0</td>\n",
       "      <td>0.0</td>\n",
       "      <td>0.0</td>\n",
       "      <td>0.0</td>\n",
       "      <td>0.0</td>\n",
       "      <td>0.0</td>\n",
       "      <td>...</td>\n",
       "      <td>0.0</td>\n",
       "      <td>0.0</td>\n",
       "      <td>0.0</td>\n",
       "      <td>0.0</td>\n",
       "      <td>0.0</td>\n",
       "      <td>0.0</td>\n",
       "      <td>0.0</td>\n",
       "      <td>0.0</td>\n",
       "      <td>0.0</td>\n",
       "      <td>0.0</td>\n",
       "    </tr>\n",
       "    <tr>\n",
       "      <th>7998</th>\n",
       "      <td>0.0</td>\n",
       "      <td>0.0</td>\n",
       "      <td>0.0</td>\n",
       "      <td>0.0</td>\n",
       "      <td>0.0</td>\n",
       "      <td>0.0</td>\n",
       "      <td>0.0</td>\n",
       "      <td>0.0</td>\n",
       "      <td>0.0</td>\n",
       "      <td>0.0</td>\n",
       "      <td>...</td>\n",
       "      <td>0.0</td>\n",
       "      <td>0.0</td>\n",
       "      <td>0.0</td>\n",
       "      <td>0.0</td>\n",
       "      <td>0.0</td>\n",
       "      <td>0.0</td>\n",
       "      <td>0.0</td>\n",
       "      <td>0.0</td>\n",
       "      <td>0.0</td>\n",
       "      <td>0.0</td>\n",
       "    </tr>\n",
       "    <tr>\n",
       "      <th>7999</th>\n",
       "      <td>0.0</td>\n",
       "      <td>0.0</td>\n",
       "      <td>0.0</td>\n",
       "      <td>0.0</td>\n",
       "      <td>0.0</td>\n",
       "      <td>0.0</td>\n",
       "      <td>0.0</td>\n",
       "      <td>0.0</td>\n",
       "      <td>0.0</td>\n",
       "      <td>0.0</td>\n",
       "      <td>...</td>\n",
       "      <td>0.0</td>\n",
       "      <td>0.0</td>\n",
       "      <td>0.0</td>\n",
       "      <td>0.0</td>\n",
       "      <td>0.0</td>\n",
       "      <td>0.0</td>\n",
       "      <td>0.0</td>\n",
       "      <td>0.0</td>\n",
       "      <td>0.0</td>\n",
       "      <td>0.0</td>\n",
       "    </tr>\n",
       "  </tbody>\n",
       "</table>\n",
       "<p>8000 rows × 11921 columns</p>\n",
       "</div>"
      ],
      "text/plain": [
       "      0      1      2      3      4      5      6      7      8      9      \\\n",
       "0       0.0    0.0    0.0    0.0    0.0    0.0    0.0    0.0    0.0    0.0   \n",
       "1       0.0    0.0    0.0    0.0    0.0    0.0    0.0    0.0    0.0    0.0   \n",
       "2       0.0    0.0    0.0    0.0    0.0    0.0    0.0    0.0    0.0    0.0   \n",
       "3       0.0    0.0    0.0    0.0    0.0    0.0    0.0    0.0    0.0    0.0   \n",
       "4       0.0    0.0    0.0    0.0    0.0    0.0    0.0    0.0    0.0    0.0   \n",
       "...     ...    ...    ...    ...    ...    ...    ...    ...    ...    ...   \n",
       "7995    0.0    0.0    0.0    0.0    0.0    0.0    0.0    0.0    0.0    0.0   \n",
       "7996    0.0    0.0    0.0    0.0    0.0    0.0    0.0    0.0    0.0    0.0   \n",
       "7997    0.0    0.0    0.0    0.0    0.0    0.0    0.0    0.0    0.0    0.0   \n",
       "7998    0.0    0.0    0.0    0.0    0.0    0.0    0.0    0.0    0.0    0.0   \n",
       "7999    0.0    0.0    0.0    0.0    0.0    0.0    0.0    0.0    0.0    0.0   \n",
       "\n",
       "      ...  11911  11912  11913  11914  11915  11916  11917  11918  11919  \\\n",
       "0     ...    0.0    0.0    0.0    0.0    0.0    0.0    0.0    0.0    0.0   \n",
       "1     ...    0.0    0.0    0.0    0.0    0.0    0.0    0.0    0.0    0.0   \n",
       "2     ...    0.0    0.0    0.0    0.0    0.0    0.0    0.0    0.0    0.0   \n",
       "3     ...    0.0    0.0    0.0    0.0    0.0    0.0    0.0    0.0    0.0   \n",
       "4     ...    0.0    0.0    0.0    0.0    0.0    0.0    0.0    0.0    0.0   \n",
       "...   ...    ...    ...    ...    ...    ...    ...    ...    ...    ...   \n",
       "7995  ...    0.0    0.0    0.0    0.0    0.0    0.0    0.0    0.0    0.0   \n",
       "7996  ...    0.0    0.0    0.0    0.0    0.0    0.0    0.0    0.0    0.0   \n",
       "7997  ...    0.0    0.0    0.0    0.0    0.0    0.0    0.0    0.0    0.0   \n",
       "7998  ...    0.0    0.0    0.0    0.0    0.0    0.0    0.0    0.0    0.0   \n",
       "7999  ...    0.0    0.0    0.0    0.0    0.0    0.0    0.0    0.0    0.0   \n",
       "\n",
       "      11920  \n",
       "0       0.0  \n",
       "1       0.0  \n",
       "2       0.0  \n",
       "3       0.0  \n",
       "4       0.0  \n",
       "...     ...  \n",
       "7995    0.0  \n",
       "7996    0.0  \n",
       "7997    0.0  \n",
       "7998    0.0  \n",
       "7999    0.0  \n",
       "\n",
       "[8000 rows x 11921 columns]"
      ]
     },
     "execution_count": 24,
     "metadata": {},
     "output_type": "execute_result"
    }
   ],
   "source": [
    "train_dataset"
   ]
  },
  {
   "cell_type": "code",
   "execution_count": 25,
   "metadata": {},
   "outputs": [
    {
     "name": "stdout",
     "output_type": "stream",
     "text": [
      "Model: \"sequential\"\n",
      "_________________________________________________________________\n",
      " Layer (type)                Output Shape              Param #   \n",
      "=================================================================\n",
      " normalization (Normalizatio  (None, 11921)            0         \n",
      " n)                                                              \n",
      "                                                                 \n",
      " dense (Dense)               (None, 10)                119220    \n",
      "                                                                 \n",
      " dense_1 (Dense)             (None, 2)                 22        \n",
      "                                                                 \n",
      "=================================================================\n",
      "Total params: 119,242\n",
      "Trainable params: 119,242\n",
      "Non-trainable params: 0\n",
      "_________________________________________________________________\n"
     ]
    }
   ],
   "source": [
    "\n",
    "normaliser = tf.keras.layers.Normalization(axis=-1,mean=0,variance=1)\n",
    "model = tf.keras.Sequential([normaliser,tf.keras.layers.Dense(units=10,activation='tanh'),\n",
    "                            tf.keras.layers.Dense(units=2,activation='softmax')])\n",
    "model.build(input_shape=(None, 11921))\n",
    "model.compile(optimizer=tf.keras.optimizers.SGD(learning_rate=0.01),loss=tf.keras.losses.SparseCategoricalCrossentropy(),metrics=['accuracy'])\n",
    "model.summary()"
   ]
  },
  {
   "cell_type": "code",
   "execution_count": 26,
   "metadata": {},
   "outputs": [
    {
     "name": "stdout",
     "output_type": "stream",
     "text": [
      "Epoch 1/50\n",
      "225/225 [==============================] - 4s 13ms/step - loss: 0.6915 - accuracy: 0.5432 - val_loss: 0.6907 - val_accuracy: 0.5587\n",
      "Epoch 2/50\n",
      "225/225 [==============================] - 2s 9ms/step - loss: 0.6890 - accuracy: 0.5940 - val_loss: 0.6886 - val_accuracy: 0.6025\n",
      "Epoch 3/50\n",
      "225/225 [==============================] - 2s 9ms/step - loss: 0.6866 - accuracy: 0.6304 - val_loss: 0.6864 - val_accuracy: 0.6187\n",
      "Epoch 4/50\n",
      "225/225 [==============================] - 2s 10ms/step - loss: 0.6841 - accuracy: 0.6413 - val_loss: 0.6843 - val_accuracy: 0.6288\n",
      "Epoch 5/50\n",
      "225/225 [==============================] - 3s 12ms/step - loss: 0.6815 - accuracy: 0.6675 - val_loss: 0.6822 - val_accuracy: 0.6500\n",
      "Epoch 6/50\n",
      "225/225 [==============================] - 3s 11ms/step - loss: 0.6790 - accuracy: 0.6903 - val_loss: 0.6799 - val_accuracy: 0.6662\n",
      "Epoch 7/50\n",
      "225/225 [==============================] - 3s 12ms/step - loss: 0.6764 - accuracy: 0.6944 - val_loss: 0.6774 - val_accuracy: 0.6737\n",
      "Epoch 8/50\n",
      "225/225 [==============================] - 3s 12ms/step - loss: 0.6735 - accuracy: 0.7153 - val_loss: 0.6752 - val_accuracy: 0.6612\n",
      "Epoch 9/50\n",
      "225/225 [==============================] - 3s 15ms/step - loss: 0.6705 - accuracy: 0.6808 - val_loss: 0.6725 - val_accuracy: 0.6562\n",
      "Epoch 10/50\n",
      "225/225 [==============================] - 3s 15ms/step - loss: 0.6675 - accuracy: 0.7056 - val_loss: 0.6698 - val_accuracy: 0.6562\n",
      "Epoch 11/50\n",
      "225/225 [==============================] - 3s 11ms/step - loss: 0.6644 - accuracy: 0.7164 - val_loss: 0.6670 - val_accuracy: 0.6913\n",
      "Epoch 12/50\n",
      "225/225 [==============================] - 3s 11ms/step - loss: 0.6611 - accuracy: 0.7351 - val_loss: 0.6644 - val_accuracy: 0.6662\n",
      "Epoch 13/50\n",
      "225/225 [==============================] - 3s 13ms/step - loss: 0.6577 - accuracy: 0.7244 - val_loss: 0.6609 - val_accuracy: 0.7113\n",
      "Epoch 14/50\n",
      "225/225 [==============================] - 3s 12ms/step - loss: 0.6540 - accuracy: 0.7437 - val_loss: 0.6577 - val_accuracy: 0.7050\n",
      "Epoch 15/50\n",
      "225/225 [==============================] - 2s 8ms/step - loss: 0.6502 - accuracy: 0.7387 - val_loss: 0.6544 - val_accuracy: 0.7138\n",
      "Epoch 16/50\n",
      "225/225 [==============================] - 3s 12ms/step - loss: 0.6463 - accuracy: 0.7489 - val_loss: 0.6509 - val_accuracy: 0.7138\n",
      "Epoch 17/50\n",
      "225/225 [==============================] - 2s 8ms/step - loss: 0.6421 - accuracy: 0.7444 - val_loss: 0.6475 - val_accuracy: 0.7000\n",
      "Epoch 18/50\n",
      "225/225 [==============================] - 2s 9ms/step - loss: 0.6379 - accuracy: 0.7553 - val_loss: 0.6438 - val_accuracy: 0.7025\n",
      "Epoch 19/50\n",
      "225/225 [==============================] - 2s 10ms/step - loss: 0.6335 - accuracy: 0.7510 - val_loss: 0.6398 - val_accuracy: 0.7175\n",
      "Epoch 20/50\n",
      "225/225 [==============================] - 3s 12ms/step - loss: 0.6289 - accuracy: 0.7529 - val_loss: 0.6360 - val_accuracy: 0.7262\n",
      "Epoch 21/50\n",
      "225/225 [==============================] - 2s 10ms/step - loss: 0.6242 - accuracy: 0.7619 - val_loss: 0.6322 - val_accuracy: 0.6988\n",
      "Epoch 22/50\n",
      "225/225 [==============================] - 2s 9ms/step - loss: 0.6194 - accuracy: 0.7576 - val_loss: 0.6280 - val_accuracy: 0.7250\n",
      "Epoch 23/50\n",
      "225/225 [==============================] - 2s 11ms/step - loss: 0.6146 - accuracy: 0.7667 - val_loss: 0.6238 - val_accuracy: 0.7287\n",
      "Epoch 24/50\n",
      "225/225 [==============================] - 2s 11ms/step - loss: 0.6096 - accuracy: 0.7611 - val_loss: 0.6204 - val_accuracy: 0.6975\n",
      "Epoch 25/50\n",
      "225/225 [==============================] - 2s 10ms/step - loss: 0.6047 - accuracy: 0.7681 - val_loss: 0.6155 - val_accuracy: 0.7275\n",
      "Epoch 26/50\n",
      "225/225 [==============================] - 2s 11ms/step - loss: 0.5996 - accuracy: 0.7731 - val_loss: 0.6114 - val_accuracy: 0.7212\n",
      "Epoch 27/50\n",
      "225/225 [==============================] - 3s 11ms/step - loss: 0.5946 - accuracy: 0.7693 - val_loss: 0.6074 - val_accuracy: 0.7275\n",
      "Epoch 28/50\n",
      "225/225 [==============================] - 2s 9ms/step - loss: 0.5894 - accuracy: 0.7725 - val_loss: 0.6033 - val_accuracy: 0.7275\n",
      "Epoch 29/50\n",
      "225/225 [==============================] - 2s 9ms/step - loss: 0.5842 - accuracy: 0.7796 - val_loss: 0.5990 - val_accuracy: 0.7300\n",
      "Epoch 30/50\n",
      "225/225 [==============================] - 2s 10ms/step - loss: 0.5791 - accuracy: 0.7764 - val_loss: 0.5950 - val_accuracy: 0.7287\n",
      "Epoch 31/50\n",
      "225/225 [==============================] - 2s 9ms/step - loss: 0.5741 - accuracy: 0.7811 - val_loss: 0.5910 - val_accuracy: 0.7325\n",
      "Epoch 32/50\n",
      "225/225 [==============================] - 2s 9ms/step - loss: 0.5689 - accuracy: 0.7831 - val_loss: 0.5874 - val_accuracy: 0.7337\n",
      "Epoch 33/50\n",
      "225/225 [==============================] - 2s 10ms/step - loss: 0.5638 - accuracy: 0.7847 - val_loss: 0.5837 - val_accuracy: 0.7113\n",
      "Epoch 34/50\n",
      "225/225 [==============================] - 3s 12ms/step - loss: 0.5588 - accuracy: 0.7801 - val_loss: 0.5820 - val_accuracy: 0.7050\n",
      "Epoch 35/50\n",
      "225/225 [==============================] - 2s 9ms/step - loss: 0.5542 - accuracy: 0.7903 - val_loss: 0.5763 - val_accuracy: 0.7300\n",
      "Epoch 36/50\n",
      "225/225 [==============================] - 2s 10ms/step - loss: 0.5494 - accuracy: 0.7914 - val_loss: 0.5725 - val_accuracy: 0.7350\n",
      "Epoch 37/50\n",
      "225/225 [==============================] - 2s 10ms/step - loss: 0.5445 - accuracy: 0.7937 - val_loss: 0.5689 - val_accuracy: 0.7350\n",
      "Epoch 38/50\n",
      "225/225 [==============================] - 2s 9ms/step - loss: 0.5395 - accuracy: 0.7937 - val_loss: 0.5667 - val_accuracy: 0.7212\n",
      "Epoch 39/50\n",
      "225/225 [==============================] - 2s 11ms/step - loss: 0.5352 - accuracy: 0.7993 - val_loss: 0.5628 - val_accuracy: 0.7287\n",
      "Epoch 40/50\n",
      "225/225 [==============================] - 2s 10ms/step - loss: 0.5305 - accuracy: 0.8008 - val_loss: 0.5594 - val_accuracy: 0.7300\n",
      "Epoch 41/50\n",
      "225/225 [==============================] - 2s 10ms/step - loss: 0.5258 - accuracy: 0.8006 - val_loss: 0.5575 - val_accuracy: 0.7237\n",
      "Epoch 42/50\n",
      "225/225 [==============================] - 2s 11ms/step - loss: 0.5215 - accuracy: 0.8060 - val_loss: 0.5538 - val_accuracy: 0.7325\n",
      "Epoch 43/50\n",
      "225/225 [==============================] - 2s 10ms/step - loss: 0.5169 - accuracy: 0.8062 - val_loss: 0.5507 - val_accuracy: 0.7325\n",
      "Epoch 44/50\n",
      "225/225 [==============================] - 3s 13ms/step - loss: 0.5129 - accuracy: 0.8031 - val_loss: 0.5485 - val_accuracy: 0.7262\n",
      "Epoch 45/50\n",
      "225/225 [==============================] - 2s 10ms/step - loss: 0.5088 - accuracy: 0.8143 - val_loss: 0.5456 - val_accuracy: 0.7350\n",
      "Epoch 46/50\n",
      "225/225 [==============================] - 2s 10ms/step - loss: 0.5045 - accuracy: 0.8099 - val_loss: 0.5430 - val_accuracy: 0.7437\n",
      "Epoch 47/50\n",
      "225/225 [==============================] - 2s 10ms/step - loss: 0.5003 - accuracy: 0.8158 - val_loss: 0.5406 - val_accuracy: 0.7400\n",
      "Epoch 48/50\n",
      "225/225 [==============================] - 2s 11ms/step - loss: 0.4967 - accuracy: 0.8179 - val_loss: 0.5385 - val_accuracy: 0.7300\n",
      "Epoch 49/50\n",
      "225/225 [==============================] - 2s 9ms/step - loss: 0.4929 - accuracy: 0.8217 - val_loss: 0.5368 - val_accuracy: 0.7350\n",
      "Epoch 50/50\n",
      "225/225 [==============================] - 2s 8ms/step - loss: 0.4889 - accuracy: 0.8233 - val_loss: 0.5341 - val_accuracy: 0.7400\n",
      "CPU times: total: 1min 7s\n",
      "Wall time: 2min\n"
     ]
    }
   ],
   "source": [
    "%%time\n",
    "\n",
    "history_dnn = model.fit(\n",
    "    train_dataset,\n",
    "    train_dataset_labels,\n",
    "    validation_split=0.1,\n",
    "    verbose=1, epochs=50)\n"
   ]
  },
  {
   "cell_type": "code",
   "execution_count": 27,
   "metadata": {
    "scrolled": true
   },
   "outputs": [],
   "source": [
    "history_dnn.history['val_loss']\n",
    "pass"
   ]
  },
  {
   "cell_type": "code",
   "execution_count": 28,
   "metadata": {},
   "outputs": [
    {
     "data": {
      "image/png": "[encoded data removed]",
      "text/plain": [
       "<Figure size 640x480 with 1 Axes>"
      ]
     },
     "metadata": {},
     "output_type": "display_data"
    }
   ],
   "source": [
    "def plot_loss(history):\n",
    "  plt.plot(history.history['loss'], label='loss')\n",
    "  plt.plot(history.history['val_loss'], label='val_loss')\n",
    "#   plt.ylim([100,200])\n",
    "#   plt.xlim([100,200])\n",
    "  plt.xlabel('Epoch')\n",
    "  plt.ylabel('Error')\n",
    "  plt.legend()\n",
    "  plt.grid(True)\n",
    "plot_loss(history_dnn)\n",
    "# Your code here"
   ]
  },
  {
   "cell_type": "code",
   "execution_count": 29,
   "metadata": {
    "scrolled": false
   },
   "outputs": [
    {
     "name": "stdout",
     "output_type": "stream",
     "text": [
      "63/63 [==============================] - 1s 8ms/step\n",
      "   True Positive  True Negative  False Positive  False Negative\n",
      "0            612            834             162             392\n"
     ]
    },
    {
     "data": {
      "text/plain": [
       "72.3"
      ]
     },
     "execution_count": 29,
     "metadata": {},
     "output_type": "execute_result"
    }
   ],
   "source": [
    "test_predictions_unreal = model.predict(test_dataset)\n",
    "real = np.argmax(test_predictions_unreal,axis=1)\n",
    "check=[]\n",
    "tpv=0\n",
    "fpv=0\n",
    "tnv=0\n",
    "fnv=0\n",
    "test_dataset_labels_array = test_dataset_labels.to_numpy()\n",
    "test_dataset_labels_array=[int(i) for i in test_dataset_labels_array]\n",
    "\n",
    "\n",
    "for i in range(len(test_dataset_labels_array)):\n",
    "    if test_dataset_labels_array[i]==1 and real[i]==0:\n",
    "        fnv+=1\n",
    "    elif test_dataset_labels_array[i]==0 and real[i]==1:\n",
    "        fpv+=1\n",
    "    elif test_dataset_labels_array[i]==0 and real[i]==0:\n",
    "        tnv+=1\n",
    "    elif test_dataset_labels_array[i]==1 and real[i]==1:\n",
    "        tpv+=1\n",
    "\n",
    "metrics = {\"True Positive\":[tpv],\"True Negative\":[tnv],\"False Positive\":[fpv],\"False Negative\":[fnv]}\n",
    "metrics\n",
    "metrics_df = pd.DataFrame(metrics)\n",
    "metrics_df\n",
    "accuracy = (tpv+tnv)/20\n",
    "print(metrics_df)\n",
    "accuracy"
   ]
  },
  {
   "cell_type": "code",
   "execution_count": null,
   "metadata": {},
   "outputs": [],
   "source": []
  },
  {
   "cell_type": "code",
   "execution_count": null,
   "metadata": {},
   "outputs": [],
   "source": []
  },
  {
   "cell_type": "code",
   "execution_count": null,
   "metadata": {},
   "outputs": [],
   "source": []
  },
  {
   "cell_type": "code",
   "execution_count": null,
   "metadata": {},
   "outputs": [],
   "source": []
  },
  {
   "cell_type": "code",
   "execution_count": null,
   "metadata": {},
   "outputs": [],
   "source": []
  },
  {
   "cell_type": "code",
   "execution_count": null,
   "metadata": {},
   "outputs": [],
   "source": []
  },
  {
   "cell_type": "code",
   "execution_count": null,
   "metadata": {},
   "outputs": [],
   "source": []
  }
 ],
 "metadata": {
  "colab": {
   "provenance": []
  },
  "kernelspec": {
   "display_name": "Python 3 (ipykernel)",
   "language": "python",
   "name": "python3"
  },
  "language_info": {
   "codemirror_mode": {
    "name": "ipython",
    "version": 3
   },
   "file_extension": ".py",
   "mimetype": "text/x-python",
   "name": "python",
   "nbconvert_exporter": "python",
   "pygments_lexer": "ipython3",
   "version": "3.10.4"
  }
 },
 "nbformat": 4,
 "nbformat_minor": 1
}
